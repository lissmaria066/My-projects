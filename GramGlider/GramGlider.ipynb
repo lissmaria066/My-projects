{
  "metadata": {
    "kernelspec": {
      "name": "python",
      "display_name": "Python (Pyodide)",
      "language": "python"
    },
    "language_info": {
      "codemirror_mode": {
        "name": "python",
        "version": 3
      },
      "file_extension": ".py",
      "mimetype": "text/x-python",
      "name": "python",
      "nbconvert_exporter": "python",
      "pygments_lexer": "ipython3",
      "version": "3.8"
    }
  },
  "nbformat_minor": 4,
  "nbformat": 4,
  "cells": [
    {
      "cell_type": "code",
      "source": "from selenium import webdriver\nfrom selenium.webdriver.common.by import By\nfrom selenium.webdriver.common.keys import Keys\nfrom selenium.webdriver.chrome.service import Service\nfrom selenium.webdriver.chrome.options import Options\nfrom webdriver_manager.chrome import ChromeDriverManager\nfrom selenium.webdriver.support.ui import WebDriverWait\nfrom selenium.webdriver.support import expected_conditions as EC\nimport time\n\n# Initialize the WebDriver with options (e.g., headless mode)\nchrome_options = Options()\nchrome_options.add_argument(\"--headless\")  # Run in headless mode for efficiency\n\n# Initialize the WebDriver\ndriver = webdriver.Chrome(service=Service(ChromeDriverManager().install()), options=chrome_options)\n\ntry:\n    # Open Instagram\n    driver.get('https://www.instagram.com')\n\n    # Log in to Instagram\n    WebDriverWait(driver, 10).until(EC.presence_of_element_located((By.NAME, 'username')))\n    username = driver.find_element(By.NAME, 'username')\n    password = driver.find_element(By.NAME, 'password')\n    username.send_keys('your_username')\n    password.send_keys('your_password')\n    password.send_keys(Keys.RETURN)\n\n    # Wait for the login process to complete\n    WebDriverWait(driver, 10).until(EC.url_changes('https://www.instagram.com'))\n\n    # Navigate to a profile page\n    driver.get('https://www.instagram.com/instagram/')\n\n    # Scroll to load more posts\n    for _ in range(5):\n        driver.execute_script(\"window.scrollTo(0, document.body.scrollHeight);\")\n        WebDriverWait(driver, 10).until(lambda driver: driver.execute_script(\"return document.body.scrollHeight > window.innerHeight\"))\n        time.sleep(2)\n\n    # Extract post links\n    posts = driver.find_elements(By.CSS_SELECTOR, 'a[href*=\"/p/\"]')\n    post_links = [post.get_attribute('href') for post in posts]\n\n    # Print post links\n    for link in post_links:\n        print(link)\n\nfinally:\n    # Close the WebDriver\n    driver.quit()\n",
      "metadata": {
        "trusted": true
      },
      "outputs": [],
      "execution_count": null
    }
  ]
}